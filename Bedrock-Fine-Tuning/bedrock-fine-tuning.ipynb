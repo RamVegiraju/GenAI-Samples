{
 "cells": [
  {
   "cell_type": "markdown",
   "id": "4523d594-db28-468d-b97f-f1f6aebd5f0c",
   "metadata": {},
   "source": [
    "## Bedrock Fine-Tuning Introduction\n",
    "\n",
    "This example takes a look at how you can use the Cohere Command model to fine-tune via Amazon Bedrock for a summarization use-case with the [SamSum dataset](https://huggingface.co/datasets/samsum)."
   ]
  },
  {
   "cell_type": "markdown",
   "id": "54723a8b-0044-4135-9b39-ce0e888a14d2",
   "metadata": {},
   "source": [
    "### Prepare Dataset\n",
    "\n",
    "We take the SamSum dataset and upload a subset to S3 for fine-tuning."
   ]
  },
  {
   "cell_type": "code",
   "execution_count": null,
   "id": "061b9836-29a1-4bbe-a271-46609bedf520",
   "metadata": {},
   "outputs": [],
   "source": [
    "from datasets import load_dataset\n",
    "train_dataset = load_dataset(\"samsum\", split=\"train\")\n",
    "train_dataset = train_dataset.remove_columns('id')\n",
    "train_dataset = train_dataset.select(list(range(2000)))\n",
    "train_dataset = train_dataset.rename_column(\"dialogue\", \"prompt\")\n",
    "train_dataset = train_dataset.rename_column(\"summary\", \"completion\")\n",
    "print(train_dataset)"
   ]
  },
  {
   "cell_type": "code",
   "execution_count": null,
   "id": "993c9159-254c-4f5e-87f4-ba87932efdb5",
   "metadata": {},
   "outputs": [],
   "source": [
    "train_dataset.to_json(\"samsum.jsonl\")"
   ]
  },
  {
   "cell_type": "code",
   "execution_count": null,
   "id": "d7f53c4a-3bf7-4fed-ab55-0943055e7120",
   "metadata": {},
   "outputs": [],
   "source": [
    "import boto3\n",
    "s3 = boto3.client(\"s3\")\n",
    "\n",
    "# make sure bucket name is unique \n",
    "bucket_name = \"bedrock-fine-tuning-cohere-summarization\"\n",
    "\n",
    "# create s3 bucket\n",
    "s3.create_bucket(Bucket=bucket_name)\n",
    "\n",
    "# push the training file\n",
    "training_file_name = \"samsum.jsonl\"\n",
    "training_dataset_key = \"train/samsum.jsonl\"\n",
    "s3.upload_file(training_file_name, bucket_name, training_dataset_key)\n",
    "\n",
    "# create a folder to store fine-tuning output results\n",
    "model_eval_results = \"model-output/\"\n",
    "s3.put_object(Bucket=bucket_name, Key=model_eval_results)"
   ]
  },
  {
   "cell_type": "code",
   "execution_count": null,
   "id": "b7e5e8a8-3bb2-446f-b91c-089f76ea36f1",
   "metadata": {},
   "outputs": [],
   "source": [
    "s3_path = f\"s3://{bucket_name}/\"\n",
    "print(f\"S3 Data Location: {s3_path}\")\n",
    "\n",
    "train_dataset_path = f\"s3://{bucket_name}/{training_dataset_key}\"\n",
    "print(f\"Training Dataset Location: {train_dataset_path}\")\n",
    "\n",
    "model_output_path = f\"s3://{bucket_name}/{model_eval_results}\"\n",
    "print(f\"Model Outputs Stored: {model_output_path}\")"
   ]
  },
  {
   "cell_type": "markdown",
   "id": "8d1c3810-e52f-492c-be93-8ef2398f176e",
   "metadata": {},
   "source": [
    "### Model Fine-Tuning"
   ]
  },
  {
   "cell_type": "code",
   "execution_count": null,
   "id": "201efb41-0bb6-409f-9465-90437aae2f72",
   "metadata": {},
   "outputs": [],
   "source": [
    "import boto3 \n",
    "bedrock = boto3.client(service_name=\"bedrock\")\n",
    "\n",
    "# reference: https://aws.amazon.com/blogs/aws/customize-models-in-amazon-bedrock-with-your-own-data-using-fine-tuning-and-continued-pre-training/\n",
    "for model in bedrock.list_foundation_models(byCustomizationType=\"FINE_TUNING\")[\"modelSummaries\"]:\n",
    "    if model[\"providerName\"] == \"Cohere\" and model[\"modelName\"] == \"Command\":\n",
    "        command_model_id = model[\"modelId\"]\n",
    "print(command_model_id)"
   ]
  },
  {
   "cell_type": "code",
   "execution_count": null,
   "id": "c2bd91c5-e36d-4c17-94eb-82315021382c",
   "metadata": {},
   "outputs": [],
   "source": [
    "model_name = \"customized-cohere-summarization-model-test\"\n",
    "job_name = \"fine-tuning-samsum-cohere-summarization-test\"\n",
    "role = \"your IAM role\" #replace with your role ARN\n",
    "\n",
    "bedrock.create_model_customization_job(\n",
    "    customizationType=\"FINE_TUNING\",\n",
    "    jobName=job_name,\n",
    "    customModelName=model_name,\n",
    "    roleArn=role,\n",
    "    baseModelIdentifier=\"cohere.command-text-v14:7:4k\",\n",
    "    hyperParameters = {\"epochCount\": \"1\"},\n",
    "    trainingDataConfig={\"s3Uri\": train_dataset_path},\n",
    "    outputDataConfig={\"s3Uri\": model_output_path},\n",
    ")"
   ]
  },
  {
   "cell_type": "code",
   "execution_count": null,
   "id": "6a18162d-03f0-401c-b269-5cd40158468c",
   "metadata": {},
   "outputs": [],
   "source": [
    "import time\n",
    "while bedrock.get_model_customization_job(jobIdentifier=job_name)[\"status\"] == \"InProgress\":\n",
    "    print(bedrock.get_model_customization_job(jobIdentifier=job_name)[\"status\"])\n",
    "    time.sleep(120)\n",
    "print(bedrock.get_model_customization_job(jobIdentifier=job_name)[\"status\"])"
   ]
  }
 ],
 "metadata": {
  "kernelspec": {
   "display_name": "Python 3 (ipykernel)",
   "language": "python",
   "name": "python3"
  },
  "language_info": {
   "codemirror_mode": {
    "name": "ipython",
    "version": 3
   },
   "file_extension": ".py",
   "mimetype": "text/x-python",
   "name": "python",
   "nbconvert_exporter": "python",
   "pygments_lexer": "ipython3",
   "version": "3.10.13"
  }
 },
 "nbformat": 4,
 "nbformat_minor": 5
}
