{
 "cells": [
  {
   "cell_type": "markdown",
   "id": "cec4bb71-12f0-406e-a120-f3ab2a192453",
   "metadata": {},
   "source": [
    "# Sample HuggingFace Model Deployment on SageMaker Real-Time Endpoints\n",
    "\n",
    "In this sample, we directly take the generated code from: https://huggingface.co/google/flan-t5-base?sagemaker_deploy=true and deploy a [flan-t-5 model](https://huggingface.co/google/flan-t5-base) on [SageMaker Real-Time Endpoints](https://docs.aws.amazon.com/sagemaker/latest/dg/realtime-endpoints.html). We want to showcase how simple it is to directly deploy SageMaker supported models from the HuggingFace Hub. Factors that are automated/taken care of for you include:\n",
    "\n",
    "- <b>Container Selection</b>: The model server/runtime environment for executing this model, you can also adjust the container if you have deeper knowledge of model servers/preference of what container to use.\n",
    "- <b>Hardware Selection</b>: The compute behind the Real-Time Endpoint, you can tune this if you want to test different deployment configurations.\n",
    "\n",
    "Deployment is done using the SageMaker Python SDK which is a higher level abstraction around the boto3 AWS Python SDK and simplifies these API calls that we are working with. "
   ]
  },
  {
   "cell_type": "markdown",
   "id": "9d3cfebf-c70f-425a-99f4-36d90f0d8bcb",
   "metadata": {},
   "source": [
    "## Setup"
   ]
  },
  {
   "cell_type": "code",
   "execution_count": null,
   "id": "1b5268e0-86a0-4679-8d17-0b03c797d14a",
   "metadata": {},
   "outputs": [],
   "source": [
    "!pip install -U sagemaker"
   ]
  },
  {
   "cell_type": "code",
   "execution_count": null,
   "id": "2959456d-838d-454e-b0ce-201db84b1a88",
   "metadata": {},
   "outputs": [],
   "source": [
    "import json\n",
    "import sagemaker\n",
    "import boto3\n",
    "from sagemaker.huggingface import HuggingFaceModel, get_huggingface_llm_image_uri\n",
    "\n",
    "try:\n",
    "\trole = sagemaker.get_execution_role()\n",
    "except ValueError:\n",
    "\tiam = boto3.client('iam')\n",
    "\trole = iam.get_role(RoleName='sagemaker_execution_role')['Role']['Arn']\n",
    "\n",
    "# Hub Model configuration. https://huggingface.co/models\n",
    "hub = {\n",
    "\t'HF_MODEL_ID':'google/flan-t5-base',\n",
    "\t'SM_NUM_GPUS': json.dumps(4)\n",
    "}"
   ]
  },
  {
   "cell_type": "markdown",
   "id": "29ab2438-3c5d-4095-a943-5f44a01beb3b",
   "metadata": {},
   "source": [
    "## Deployment & Inference"
   ]
  },
  {
   "cell_type": "code",
   "execution_count": null,
   "id": "cfe7bb5d-856b-45ce-a447-511439c27b70",
   "metadata": {},
   "outputs": [],
   "source": [
    "# create Hugging Face Model Class\n",
    "huggingface_model = HuggingFaceModel(\n",
    "\timage_uri=get_huggingface_llm_image_uri(\"huggingface\",version=\"2.3.1\"),\n",
    "\tenv=hub,\n",
    "\trole=role, \n",
    ")\n",
    "\n",
    "# deploy model to SageMaker Inference\n",
    "predictor = huggingface_model.deploy(\n",
    "\tinitial_instance_count=1,\n",
    "\tinstance_type=\"ml.g5.12xlarge\",\n",
    "\tcontainer_startup_health_check_timeout=900,\n",
    "  )"
   ]
  },
  {
   "cell_type": "code",
   "execution_count": null,
   "id": "36d958a8-b451-4ddf-9c86-2da6e27ea361",
   "metadata": {},
   "outputs": [],
   "source": [
    "# send request\n",
    "predictor.predict({\n",
    "\t\"inputs\": \"Translate to German:  My name is Arthur\",\n",
    "})"
   ]
  },
  {
   "cell_type": "markdown",
   "id": "9c394a54-6546-4281-bbc4-a2c6cc3fb5ff",
   "metadata": {},
   "source": [
    "## Cleanup"
   ]
  },
  {
   "cell_type": "code",
   "execution_count": null,
   "id": "cf42022f-af21-4cf5-ba47-feebc717cc76",
   "metadata": {},
   "outputs": [],
   "source": [
    "# Delete the endpoint\n",
    "predictor.delete_endpoint()"
   ]
  }
 ],
 "metadata": {
  "kernelspec": {
   "display_name": "Python 3 (ipykernel)",
   "language": "python",
   "name": "python3"
  },
  "language_info": {
   "codemirror_mode": {
    "name": "ipython",
    "version": 3
   },
   "file_extension": ".py",
   "mimetype": "text/x-python",
   "name": "python",
   "nbconvert_exporter": "python",
   "pygments_lexer": "ipython3",
   "version": "3.11.10"
  }
 },
 "nbformat": 4,
 "nbformat_minor": 5
}
