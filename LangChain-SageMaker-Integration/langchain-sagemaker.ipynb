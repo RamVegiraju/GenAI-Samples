{
 "cells": [
  {
   "cell_type": "markdown",
   "id": "00c81885-b0d8-4ff4-b95a-83322d29e105",
   "metadata": {},
   "source": [
    "## Integrating LangChain + Amazon SageMaker"
   ]
  },
  {
   "cell_type": "markdown",
   "id": "fcf60fd0-f3da-4901-b868-c96f1d01c980",
   "metadata": {},
   "source": [
    "### SageMaker JumpStart Flan T-5 Deployment\n",
    "\n",
    "Original code retrieved from: https://github.com/aws/amazon-sagemaker-examples/blob/main/introduction_to_amazon_algorithms/jumpstart-foundation-models/text2text-generation-flan-t5.ipynb"
   ]
  },
  {
   "cell_type": "code",
   "execution_count": null,
   "id": "34268736-8a64-45f7-b32a-ee89c8ca8740",
   "metadata": {
    "tags": []
   },
   "outputs": [],
   "source": [
    "!pip install ipywidgets==7.0.0 --quiet\n",
    "!pip install --upgrade sagemaker --quiet"
   ]
  },
  {
   "cell_type": "code",
   "execution_count": null,
   "id": "3ac07aa8-0eeb-41ec-86b7-0fc423e21e47",
   "metadata": {
    "tags": []
   },
   "outputs": [],
   "source": [
    "model_id, model_version = (\n",
    "    \"huggingface-text2text-flan-t5-xl\",\n",
    "    \"*\",\n",
    ")"
   ]
  },
  {
   "cell_type": "code",
   "execution_count": null,
   "id": "ccbd97a0-4a5d-469d-97c9-d1bc3bb6f73a",
   "metadata": {
    "tags": []
   },
   "outputs": [],
   "source": [
    "from sagemaker.jumpstart.model import JumpStartModel\n",
    "\n",
    "\n",
    "model = JumpStartModel(model_id=model_id, model_version=model_version)\n",
    "\n",
    "model_predictor = model.deploy()"
   ]
  },
  {
   "cell_type": "code",
   "execution_count": null,
   "id": "a5b21220-fcf9-40de-86ab-e5960f2aee77",
   "metadata": {
    "tags": []
   },
   "outputs": [],
   "source": [
    "newline, bold, unbold = \"\\n\", \"\\033[1m\", \"\\033[0m\"\n",
    "\n",
    "\n",
    "def query_endpoint(encoded_text):\n",
    "    response = model_predictor.predict(encoded_text)\n",
    "    return response\n",
    "\n",
    "\n",
    "def parse_response(query_response):\n",
    "    generated_text = query_response[\"generated_text\"]\n",
    "    return generated_text"
   ]
  },
  {
   "cell_type": "markdown",
   "id": "180a3714-5c06-4b28-980a-133e8198ec0f",
   "metadata": {},
   "source": [
    "### Sample Inference"
   ]
  },
  {
   "cell_type": "code",
   "execution_count": null,
   "id": "02ac0cd0-1391-45cb-83cc-045f4512de61",
   "metadata": {
    "tags": []
   },
   "outputs": [],
   "source": [
    "newline, bold, unbold = \"\\n\", \"\\033[1m\", \"\\033[0m\"\n",
    "\n",
    "text1 = \"Translate to German:  My name is Arthur\"\n",
    "text2 = \"A step by step recipe to make bolognese pasta:\"\n",
    "\n",
    "\n",
    "for text in [text1, text2]:\n",
    "    query_response = query_endpoint(text.encode(\"utf-8\"))\n",
    "    generated_text = parse_response(query_response)\n",
    "    print(\n",
    "        f\"Inference:{newline}\"\n",
    "        f\"input text: {text}{newline}\"\n",
    "        f\"generated text: {bold}{generated_text}{unbold}{newline}\"\n",
    "    )"
   ]
  },
  {
   "cell_type": "code",
   "execution_count": null,
   "id": "682c85ca-d857-464b-a299-4dc68b7fbbb7",
   "metadata": {
    "tags": []
   },
   "outputs": [],
   "source": [
    "payload = {\n",
    "    \"text_inputs\": \"Tell me the steps to make a pizza\",\n",
    "    \"max_length\": 50,\n",
    "    \"num_return_sequences\": 3,\n",
    "    \"top_k\": 50,\n",
    "    \"top_p\": 0.95,\n",
    "    \"do_sample\": True,\n",
    "}"
   ]
  },
  {
   "cell_type": "code",
   "execution_count": null,
   "id": "f12f9e10-ee23-4d09-9794-a106a6c6c1e7",
   "metadata": {
    "tags": []
   },
   "outputs": [],
   "source": [
    "import json\n",
    "client = boto3.client(\"runtime.sagemaker\")\n",
    "encoded_payload = json.dumps(payload).encode('utf-8') #JSON serialization\n",
    "response = client.invoke_endpoint(\n",
    "        EndpointName=endpoint_name, ContentType=\"application/json\", Body=encoded_payload\n",
    "    )\n",
    "model_predictions = json.loads(response[\"Body\"].read())\n",
    "model_predictions['generated_texts'][0]"
   ]
  },
  {
   "cell_type": "markdown",
   "id": "917c6ae6-1091-44da-9795-3ae887a8db18",
   "metadata": {},
   "source": [
    "### LangChain Integration\n",
    "\n",
    "LangChain/SageMaker Documentation: https://python.langchain.com/docs/integrations/llms/sagemaker"
   ]
  },
  {
   "cell_type": "code",
   "execution_count": null,
   "id": "5ffd9fea-8648-4e29-8f73-5d6652f3a1a6",
   "metadata": {
    "tags": []
   },
   "outputs": [],
   "source": [
    "from langchain import LLMChain\n",
    "from langchain import SagemakerEndpoint\n",
    "from langchain.prompts import PromptTemplate\n",
    "from langchain.llms.sagemaker_endpoint import LLMContentHandler"
   ]
  },
  {
   "cell_type": "code",
   "execution_count": null,
   "id": "b17180cd-feea-4f5e-8237-77413ed33724",
   "metadata": {
    "tags": []
   },
   "outputs": [],
   "source": [
    "sample_prompt = \"Tell me the steps to make a pizza\"\n",
    "model_params = {\"max_length\": 100,\n",
    "                \"num_return_sequences\": 1,\n",
    "                \"top_k\": 100,\n",
    "                \"top_p\": .95,\n",
    "                \"do_sample\": True}\n",
    "endpoint_name = \"hf-text2text-flan-t5-xl-2023-09-21-18-45-14-357\""
   ]
  },
  {
   "cell_type": "code",
   "execution_count": null,
   "id": "b772e9f0-a6f8-46ae-be41-32cee2338b2d",
   "metadata": {
    "tags": []
   },
   "outputs": [],
   "source": [
    "# In this instance we are just passing in the question for the prompt for our chain\n",
    "prompt_template = \"\"\"{question}\"\"\"\n",
    "\n",
    "prompt = PromptTemplate(\n",
    "    template=prompt_template, input_variables=[\"question\"]\n",
    ")"
   ]
  },
  {
   "cell_type": "code",
   "execution_count": null,
   "id": "109b6e75-331b-452a-b870-83e8c62d728d",
   "metadata": {
    "tags": []
   },
   "outputs": [],
   "source": [
    "\"\"\"\n",
    "        How our input payload needs to look:\n",
    "        payload = {\n",
    "        \"text_inputs\": \"Tell me the steps to make a pizza\",\n",
    "        \"max_length\": 100,\n",
    "        \"num_return_sequences\": 1,\n",
    "        \"top_k\": 100,\n",
    "        \"top_p\": .95,\n",
    "        \"do_sample\": True,\n",
    "        }\n",
    "\"\"\"\n",
    "\n",
    "\n",
    "class ContentHandler(LLMContentHandler):\n",
    "    content_type = \"application/json\"\n",
    "    accepts = \"application/json\"\n",
    "    \n",
    "    def transform_input(self, prompt: str, model_kwargs: dict) -> bytes:\n",
    "        input_str = json.dumps({\"text_inputs\": prompt, **model_kwargs}).encode('utf-8')\n",
    "        return input_str\n",
    "\n",
    "    def transform_output(self, output: str) -> str:\n",
    "        response_json = json.loads(output.read().decode(\"utf-8\"))\n",
    "        return response_json[\"generated_texts\"][0]\n",
    "\n",
    "content_handler = ContentHandler()"
   ]
  },
  {
   "cell_type": "code",
   "execution_count": null,
   "id": "0b3a39d6-15a6-43be-ab6e-75eacab627a1",
   "metadata": {
    "tags": []
   },
   "outputs": [],
   "source": [
    "llm = SagemakerEndpoint(\n",
    "        endpoint_name=endpoint_name,\n",
    "        region_name=\"us-east-1\",\n",
    "        model_kwargs=model_params,\n",
    "        content_handler=content_handler,\n",
    "    )"
   ]
  },
  {
   "cell_type": "code",
   "execution_count": null,
   "id": "22a46b79-6356-4a3d-a052-e8a8f63234bb",
   "metadata": {
    "tags": []
   },
   "outputs": [],
   "source": [
    "chain = LLMChain(\n",
    "        llm=llm, prompt=prompt)"
   ]
  },
  {
   "cell_type": "code",
   "execution_count": null,
   "id": "f797a239-323f-47c4-ae14-9e9615951f96",
   "metadata": {
    "tags": []
   },
   "outputs": [],
   "source": [
    "chain.run(sample_prompt)"
   ]
  }
 ],
 "metadata": {
  "kernelspec": {
   "display_name": "conda_python3",
   "language": "python",
   "name": "conda_python3"
  },
  "language_info": {
   "codemirror_mode": {
    "name": "ipython",
    "version": 3
   },
   "file_extension": ".py",
   "mimetype": "text/x-python",
   "name": "python",
   "nbconvert_exporter": "python",
   "pygments_lexer": "ipython3",
   "version": "3.10.10"
  }
 },
 "nbformat": 4,
 "nbformat_minor": 5
}
