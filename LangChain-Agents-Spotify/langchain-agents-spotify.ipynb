{
 "cells": [
  {
   "cell_type": "markdown",
   "id": "f515e873-3db2-44ba-a788-bb2889589205",
   "metadata": {},
   "source": [
    "# Spotify Music Recommender via LangChain Agents\n",
    "\n",
    "In this example we take a look at how we can utilize LangChain Agents to work with the Spotify API to generate music recommendations based off of favorite artists and number of tracks requested."
   ]
  },
  {
   "cell_type": "markdown",
   "id": "806d64e9-9464-4f9f-88df-3df0df220674",
   "metadata": {},
   "source": [
    "## Spotify Client Setup\n",
    "To work with Spotify we will use the Python API: https://developer.spotify.com/documentation/web-api. Full setup instructions can be found in the URL, but ensure you create a project and can access your Client ID and Secret.\n",
    "\n",
    "<b>Spotipy Docs (Spotify Python Library)</b>: https://spotipy.readthedocs.io/en/2.22.1/"
   ]
  },
  {
   "cell_type": "code",
   "execution_count": null,
   "id": "02758538-41ba-44d9-ba78-be977890dfcf",
   "metadata": {
    "tags": []
   },
   "outputs": [],
   "source": [
    "#!pip install spotipy langchain"
   ]
  },
  {
   "cell_type": "code",
   "execution_count": null,
   "id": "37b6dc95-d6cb-4f30-91b2-f618e9f7c5ea",
   "metadata": {
    "tags": []
   },
   "outputs": [],
   "source": [
    "import spotipy\n",
    "import spotipy.util as util\n",
    "from spotipy.oauth2 import SpotifyClientCredentials\n",
    "import random\n",
    "\n",
    "client_id = 'Enter here'\n",
    "client_secret = 'Enter here'\n",
    "\n",
    "# instantitate spotipy client\n",
    "sp = spotipy.Spotify(client_credentials_manager=SpotifyClientCredentials(client_id=client_id,\n",
    "                                                                             client_secret=client_secret))"
   ]
  },
  {
   "cell_type": "markdown",
   "id": "83fb5f04-051a-4ebb-880e-705f6ef3e764",
   "metadata": {},
   "source": [
    "## LangChain Agents Setup\n",
    "\n",
    "LangChain Agents make it easy to work with external APIs such as Spotipy. We use a ReAct Agent for our reasoning workflow. LangChain comes with many Tools that are built-in, at the moment of this example there is no built-in tool for the Spotify API, so we build our own custom tool that we then give our Agent access to. This will enable the Agent to take the appropriate actions based off of the input."
   ]
  },
  {
   "cell_type": "markdown",
   "id": "df86e21f-e714-43fc-a2bc-4331771632f9",
   "metadata": {},
   "source": [
    "### Custom Spotify Tool Creation"
   ]
  },
  {
   "cell_type": "code",
   "execution_count": null,
   "id": "9f3bc47c-8295-452c-bc7e-ce9451118202",
   "metadata": {
    "tags": []
   },
   "outputs": [],
   "source": [
    "from langchain.pydantic_v1 import BaseModel, Field\n",
    "from langchain.tools import BaseTool, StructuredTool, tool\n",
    "from typing import Optional, Type\n",
    "import spotipy\n",
    "import spotipy.util as util\n",
    "from spotipy.oauth2 import SpotifyClientCredentials\n",
    "import random\n",
    "\n",
    "client_id = 'enter here'\n",
    "client_secret = 'enter here'\n",
    "\n",
    "# instantitate spotipy client\n",
    "sp = spotipy.Spotify(client_credentials_manager=SpotifyClientCredentials(client_id=client_id,\n",
    "                                                                             client_secret=client_secret))\n",
    "\n",
    "\n",
    "class MusicInput(BaseModel):\n",
    "    artists: list = Field(description=\"A list of artists that they'd like to see music from\")\n",
    "    tracks: int = Field(description=\"The number of tracks/songs they want returned.\")\n",
    "\n",
    "class SpotifyTool(BaseTool):\n",
    "    name = \"Spotify Music Recommender\"\n",
    "    description = \"Use this tool when asked music recommendations.\"\n",
    "    args_schema: Type[BaseModel] = MusicInput\n",
    "    \n",
    "    # utils\n",
    "    @staticmethod\n",
    "    def retrieve_id(artist_name: str) -> str:\n",
    "        results = sp.search(q='artist:' + artist_name, type='artist')\n",
    "        if len(results) > 0:\n",
    "            artist_id = results['artists']['items'][0]['id']\n",
    "        else:\n",
    "            raise ValueError(f\"No artists found with this name: {artist_name}\")\n",
    "        return artist_id\n",
    "\n",
    "    @staticmethod\n",
    "    def retrieve_tracks(artist_id: str, num_tracks: int) -> list:\n",
    "        if num_tracks > 10:\n",
    "            raise ValueError(\"Can only provide up to 10 tracks per artist\")\n",
    "        tracks = []\n",
    "        top_tracks = sp.artist_top_tracks(artist_id)\n",
    "        for track in top_tracks['tracks'][:num_tracks]:\n",
    "            tracks.append(track['name'])\n",
    "        return tracks\n",
    "\n",
    "    @staticmethod\n",
    "    def all_top_tracks(artist_array: list) -> list:\n",
    "        complete_track_arr = []\n",
    "        for artist in artist_array:\n",
    "            artist_id = SpotifyTool.retrieve_id(artist)\n",
    "            all_tracks = {artist: SpotifyTool.retrieve_tracks(artist_id, 10)}\n",
    "            complete_track_arr.append(all_tracks)\n",
    "        return complete_track_arr\n",
    "\n",
    "    # main execution\n",
    "    def _run(self, artists: list, tracks: int) -> list:\n",
    "        num_artists = len(artists)\n",
    "        max_tracks = num_artists * 10\n",
    "        print(\"---------------\")\n",
    "        print(artists)\n",
    "        print(type(artists))\n",
    "        print(\"---------------\")\n",
    "        all_tracks_map = SpotifyTool.all_top_tracks(artists) # map for artists with top 10 tracks\n",
    "        all_tracks = [track for artist_map in all_tracks_map for artist, tracks in artist_map.items() for track in tracks] #complete list of tracks\n",
    "\n",
    "        if tracks > max_tracks:\n",
    "            raise ValueError(f\"Only 10 tracks per artist, max tracks for this many artists is: {max_tracks}\")\n",
    "        final_tracks = random.sample(all_tracks, tracks)\n",
    "        return final_tracks\n",
    "\n",
    "    def _arun(self):\n",
    "        raise NotImplementedError(\"Spotify Music Recommender does not support \")\n",
    "        \n",
    "tools = [SpotifyTool()]"
   ]
  },
  {
   "cell_type": "markdown",
   "id": "99f9ff0e-43e2-4fc4-b988-3976d578fee6",
   "metadata": {},
   "source": [
    "### LLM Setup\n",
    "We need an LLM that's the brains behind our Agent, in this case we specify Bedrock Claude."
   ]
  },
  {
   "cell_type": "code",
   "execution_count": null,
   "id": "41c0262c-d558-499f-ae25-92e2a88ee2a5",
   "metadata": {
    "tags": []
   },
   "outputs": [],
   "source": [
    "from langchain.llms import Bedrock\n",
    "from langchain.agents import initialize_agent, Tool\n",
    "from langchain.agents import AgentType\n",
    "model_id = \"anthropic.claude-v2:1\"\n",
    "model_params = {\"max_tokens_to_sample\": 500,\n",
    "                \"top_k\": 100,\n",
    "                \"top_p\": .95,\n",
    "                \"temperature\": .5}\n",
    "llm = Bedrock(\n",
    "    model_id=model_id,\n",
    "    model_kwargs=model_params\n",
    ")"
   ]
  },
  {
   "cell_type": "code",
   "execution_count": null,
   "id": "7f34e0f3-e58e-48ce-a9fb-4c85c6464bcf",
   "metadata": {
    "tags": []
   },
   "outputs": [],
   "source": [
    "# sample Bedrock Inference\n",
    "llm(\"What is the capitol of the United States?\")"
   ]
  },
  {
   "cell_type": "markdown",
   "id": "567e6e88-76e6-43c8-9914-f556e0a59a10",
   "metadata": {},
   "source": [
    "## Create Agent & Sample Inference\n",
    "\n",
    "Here we wrap our tools, llm, and specify our Agent Type. Note that you can make this cleaner with a prompt template/structure, but for demo purposes, we plug in our input text directly in a way the model expects."
   ]
  },
  {
   "cell_type": "code",
   "execution_count": null,
   "id": "1d222588-d2b5-4fa5-a206-598f2d394668",
   "metadata": {
    "tags": []
   },
   "outputs": [],
   "source": [
    "agent = initialize_agent(tools, llm, agent=AgentType.STRUCTURED_CHAT_ZERO_SHOT_REACT_DESCRIPTION, verbose = True)"
   ]
  },
  {
   "cell_type": "code",
   "execution_count": null,
   "id": "05b9e7d3-91a5-4e48-9b00-8c185241c974",
   "metadata": {
    "tags": []
   },
   "outputs": [],
   "source": [
    "print(agent.run(\"\"\"I like the following artists: [Arijit Singh, Future, The Weekend], \n",
    "                can I get 12 song recommendations with them in it.\"\"\"))"
   ]
  },
  {
   "cell_type": "code",
   "execution_count": null,
   "id": "c0fb336e-8811-4042-81b7-c7afb7eb1ef3",
   "metadata": {
    "tags": []
   },
   "outputs": [],
   "source": [
    "# this should error out, because max 30 songs for three artists\n",
    "print(agent.run(\"\"\"I like the following artists: [Arijit Singh, Future, The Weekend], \n",
    "                can I get 48 song recommendations with them in it.\"\"\"))"
   ]
  }
 ],
 "metadata": {
  "kernelspec": {
   "display_name": "conda_python3",
   "language": "python",
   "name": "conda_python3"
  },
  "language_info": {
   "codemirror_mode": {
    "name": "ipython",
    "version": 3
   },
   "file_extension": ".py",
   "mimetype": "text/x-python",
   "name": "python",
   "nbconvert_exporter": "python",
   "pygments_lexer": "ipython3",
   "version": "3.10.13"
  }
 },
 "nbformat": 4,
 "nbformat_minor": 5
}
