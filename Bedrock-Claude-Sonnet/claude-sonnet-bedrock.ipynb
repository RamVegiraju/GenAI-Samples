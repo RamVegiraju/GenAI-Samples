{
 "cells": [
  {
   "cell_type": "markdown",
   "id": "28513b09-b016-46ce-a216-b1ce46e10b28",
   "metadata": {},
   "source": [
    "# Bedrock Claude 3 Sonnet\n",
    "\n",
    "Anthropic's Claude 3's new models were introduced, in this notebook we explore how you can use Claude 3 Sonnet on Amazon Bedrock for image to text capabilities."
   ]
  },
  {
   "cell_type": "markdown",
   "id": "637692e4-0c98-49c7-bad9-08c6d711dd34",
   "metadata": {},
   "source": [
    "## Text to Text Generation"
   ]
  },
  {
   "cell_type": "code",
   "execution_count": 1,
   "id": "c8b08847-06cd-4b75-84a4-3e64bffc4c7f",
   "metadata": {
    "tags": []
   },
   "outputs": [
    {
     "name": "stdout",
     "output_type": "stream",
     "text": [
      "{'messages': [{'role': 'user', 'content': [{'type': 'text', 'text': 'Who is Roger Federer?'}]}], 'anthropic_version': 'bedrock-2023-05-31', 'max_tokens': 2000}\n"
     ]
    }
   ],
   "source": [
    "text_content = [{'type':'text','text': \"Who is Roger Federer?\"}]\n",
    "text_payload = {\"messages\":[{\"role\":\"user\",\"content\":text_content}],\"anthropic_version\":\"bedrock-2023-05-31\"\n",
    "                     ,\"max_tokens\":2000}\n",
    "print(text_payload)"
   ]
  },
  {
   "cell_type": "code",
   "execution_count": 2,
   "id": "037a183f-a558-4869-a7b0-13cd4268a6b7",
   "metadata": {
    "tags": []
   },
   "outputs": [
    {
     "name": "stdout",
     "output_type": "stream",
     "text": [
      "Roger Federer is a Swiss professional tennis player who is widely regarded as one of the greatest players of all time. Here are some key facts about him:\n",
      "\n",
      "- Born August 8, 1981 in Basel, Switzerland (age 41)\n",
      "\n",
      "- Turned professional in 1998 and has had one of the longest and most successful careers in tennis history.\n",
      "\n",
      "- Has won 20 Grand Slam singles titles, the most by any male player. His Grand Slam titles include 8 Wimbledon, 6 Australian Open, 5 US Open and 1 French Open.\n",
      "\n",
      "- Held the world No. 1 ranking in the ATP rankings for a record total of 310 weeks, including a record 237 consecutive weeks.\n",
      "\n",
      "- Winner of 103 ATP singles titles, the second most of all time behind Jimmy Connors.\n",
      "\n",
      "- Known for his graceful playing style, versatility on all surfaces, and exemplary sportsmanship. His trademark is his effortless, flowing forehand.\n",
      "\n",
      "- Considered part of the iconic \"Big Three\" of men's tennis along with Rafael Nadal and Novak Djokovic during the late 2000s and 2010s.\n",
      "\n",
      "- Off the court, he is a philanthropist through his Roger Federer Foundation which aids disadvantaged children.\n",
      "\n",
      "Federer's longevity, championships and cultural impact have established him as one of the most accomplished and popular athletes of his generation.\n"
     ]
    }
   ],
   "source": [
    "import json\n",
    "import boto3\n",
    "\n",
    "# setup bedrock client\n",
    "runtime = boto3.client('bedrock-runtime')\n",
    "model_id = 'anthropic.claude-3-sonnet-20240229-v1:0'\n",
    "accept = \"application/json\"\n",
    "contentType = \"application/json\"\n",
    "\n",
    "response = runtime.invoke_model(\n",
    "    body=json.dumps(text_payload), modelId=model_id, accept=accept, contentType=contentType\n",
    ")\n",
    "response_body = json.loads(response.get(\"body\").read())\n",
    "print(response_body['content'][0]['text'])"
   ]
  },
  {
   "cell_type": "markdown",
   "id": "869a7213-3d18-40f5-b917-a60e55d1ee9a",
   "metadata": {},
   "source": [
    "## Image to Text Generation"
   ]
  },
  {
   "cell_type": "code",
   "execution_count": 3,
   "id": "bc5684d1-5b22-4f6e-954a-e188a06b229f",
   "metadata": {
    "tags": []
   },
   "outputs": [],
   "source": [
    "import base64\n",
    "# util function borrowed from: https://github.com/anthropics/anthropic-cookbook/blob/main/multimodal/best_practices_for_vision.ipynb\n",
    "def get_base64_encoded_image(image_path):\n",
    "    with open(image_path, \"rb\") as image_file:\n",
    "        binary_data = image_file.read()\n",
    "        base_64_encoded_data = base64.b64encode(binary_data)\n",
    "        base64_string = base_64_encoded_data.decode('utf-8')\n",
    "        return base64_string\n",
    "\n",
    "# structure content to specify an image in this case\n",
    "image_content = [\n",
    "    {\n",
    "        \"type\": \"image\", \n",
    "        \"source\": {\n",
    "            \"type\": \"base64\",\n",
    "            \"media_type\": \"image/jpeg\",\n",
    "            \"data\": get_base64_encoded_image(\"milo.jpeg\")\n",
    "        }},\n",
    "    {\"type\": \"text\",\n",
    "     \"text\": \"What's in this image?\"\n",
    "}]\n",
    "\n",
    "image_payload = {\"messages\":[{\"role\":\"user\",\"content\":image_content}],\n",
    "                 \"anthropic_version\":\"bedrock-2023-05-31\",\"max_tokens\":2000}"
   ]
  },
  {
   "cell_type": "code",
   "execution_count": 4,
   "id": "701df138-b41f-4c1d-9591-9b32171f35fe",
   "metadata": {
    "tags": []
   },
   "outputs": [
    {
     "name": "stdout",
     "output_type": "stream",
     "text": [
      "This image shows a curly-haired white poodle or poodle-mix dog intently focused on something on a laptop screen. The dog's face fills most of the frame, with its fluffy, tightly curled fur and black nose clearly visible. The laptop's keyboard and screen edge can be seen in the foreground, indicating the dog is likely watching or interacting with content on the computer. The background is slightly blurred, appearing to be an indoor setting like an office or living room. The image captures an adorable moment of the intelligent and curious poodle seemingly engaged with the digital device.\n"
     ]
    }
   ],
   "source": [
    "response = runtime.invoke_model(\n",
    "    body=json.dumps(image_payload), modelId=model_id, accept=accept, contentType=contentType\n",
    ")\n",
    "response_body = json.loads(response.get(\"body\").read())\n",
    "print(response_body['content'][0]['text'])"
   ]
  },
  {
   "cell_type": "markdown",
   "id": "e84fbd1a-5407-4230-9999-547970c0ef41",
   "metadata": {},
   "source": [
    "## Image to Code Generation"
   ]
  },
  {
   "cell_type": "code",
   "execution_count": 5,
   "id": "0bb17b6f-e966-456c-b597-1a5ad9fcaa3f",
   "metadata": {
    "tags": []
   },
   "outputs": [],
   "source": [
    "# structure content to specify an image in this case\n",
    "code_content = [\n",
    "    {\n",
    "        \"type\": \"image\", \n",
    "        \"source\": {\n",
    "            \"type\": \"base64\",\n",
    "            \"media_type\": \"image/jpeg\",\n",
    "            \"data\": get_base64_encoded_image(\"code-handwritten.jpeg\")\n",
    "        }},\n",
    "    {\"type\": \"text\",\n",
    "     \"text\": \"Describe the Python function in this image\"\n",
    "}]\n",
    "\n",
    "code_payload = {\"messages\":[{\"role\":\"user\",\"content\":code_content}],\"anthropic_version\":\"bedrock-2023-05-31\",\"max_tokens\":2000}"
   ]
  },
  {
   "cell_type": "code",
   "execution_count": 6,
   "id": "01691947-5102-4f26-b950-86cd6ac71794",
   "metadata": {
    "tags": []
   },
   "outputs": [
    {
     "name": "stdout",
     "output_type": "stream",
     "text": [
      "The image shows a Python function definition named `add_nums`. The function takes three parameters: `x` (an integer), `y` (an integer), and `z` (also an integer).\n",
      "\n",
      "The function performs the following steps:\n",
      "\n",
      "1. It declares a variable `z` and assigns it the value of `x + y`, which is the sum of the two integer parameters `x` and `y`.\n",
      "2. The function then returns the value stored in the `z` variable.\n",
      "\n",
      "In summary, this Python function takes two integer inputs `x` and `y`, adds them together, stores the result in a variable `z`, and returns the value of `z`. It is a simple addition operation implemented as a reusable function.\n"
     ]
    }
   ],
   "source": [
    "response = runtime.invoke_model(\n",
    "    body=json.dumps(code_payload), modelId=model_id, accept=accept, contentType=contentType\n",
    ")\n",
    "response_body = json.loads(response.get(\"body\").read())\n",
    "print(response_body['content'][0]['text'])"
   ]
  }
 ],
 "metadata": {
  "kernelspec": {
   "display_name": "conda_python3",
   "language": "python",
   "name": "conda_python3"
  },
  "language_info": {
   "codemirror_mode": {
    "name": "ipython",
    "version": 3
   },
   "file_extension": ".py",
   "mimetype": "text/x-python",
   "name": "python",
   "nbconvert_exporter": "python",
   "pygments_lexer": "ipython3",
   "version": "3.10.13"
  }
 },
 "nbformat": 4,
 "nbformat_minor": 5
}
